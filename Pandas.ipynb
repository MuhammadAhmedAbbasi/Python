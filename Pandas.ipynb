{
 "cells": [
  {
   "cell_type": "code",
   "execution_count": 16,
   "metadata": {},
   "outputs": [],
   "source": [
    "import pandas as pd"
   ]
  },
  {
   "cell_type": "markdown",
   "metadata": {},
   "source": [
    "QNO 1:    Write a Pandas program to create and display a one-dimensional array-like object containing an array of data using Pandas module."
   ]
  },
  {
   "cell_type": "code",
   "execution_count": 19,
   "metadata": {},
   "outputs": [
    {
     "name": "stdout",
     "output_type": "stream",
     "text": [
      "0     2\n",
      "1     3\n",
      "2     4\n",
      "3     5\n",
      "4     6\n",
      "5     7\n",
      "6     8\n",
      "7     9\n",
      "8    10\n",
      "9    11\n",
      "dtype: int64\n"
     ]
    }
   ],
   "source": [
    "df=pd.Series([2,3,4,5,6,7,8,9,10,11])\n",
    "print(df)"
   ]
  },
  {
   "cell_type": "markdown",
   "metadata": {},
   "source": [
    "Qno 2:   Write a Pandas program to convert a Panda module Series to Python list and it's type"
   ]
  },
  {
   "cell_type": "code",
   "execution_count": 26,
   "metadata": {},
   "outputs": [
    {
     "name": "stdout",
     "output_type": "stream",
     "text": [
      "0     2\n",
      "1     3\n",
      "2     4\n",
      "3     5\n",
      "4     6\n",
      "5     7\n",
      "6     8\n",
      "7     9\n",
      "8    10\n",
      "9    11\n",
      "dtype: int64\n",
      "[2, 3, 4, 5, 6, 7, 8, 9, 10, 11]\n"
     ]
    }
   ],
   "source": [
    "df=pd.Series([2,3,4,5,6,7,8,9,10,11])\n",
    "print(df)\n",
    "df1=df.values.tolist()\n",
    "print(df1)"
   ]
  },
  {
   "cell_type": "markdown",
   "metadata": {},
   "source": [
    "Qno 3:  Write a Pandas program to add, subtract, multiple and divide two Pandas Series."
   ]
  },
  {
   "cell_type": "code",
   "execution_count": 43,
   "metadata": {},
   "outputs": [
    {
     "name": "stdout",
     "output_type": "stream",
     "text": [
      "Multiplication: 0     2\n",
      "1    12\n",
      "2    30\n",
      "3    56\n",
      "4    90\n",
      "dtype: int64\n",
      "addition 0     3\n",
      "1     7\n",
      "2    11\n",
      "3    15\n",
      "4    19\n",
      "dtype: int64\n",
      "Subtraction 0    1\n",
      "1    1\n",
      "2    1\n",
      "3    1\n",
      "4    1\n",
      "dtype: int64\n",
      "Division 0    2.000000\n",
      "1    1.333333\n",
      "2    1.200000\n",
      "3    1.142857\n",
      "4    1.111111\n",
      "dtype: float64\n"
     ]
    }
   ],
   "source": [
    "df1=pd.Series([2, 4, 6, 8, 10])\n",
    "df2=pd.Series([1, 3, 5, 7, 9])\n",
    "\n",
    "def Perform(df1,df2):\n",
    "    mul=df1*df2\n",
    "    add=df1+df2\n",
    "    sub=df1-df2\n",
    "    div=df1/df2\n",
    "    return(mul,add,sub,div)\n",
    "\n",
    "m,a,s,d=Perform(df1,df2)\n",
    "\n",
    "print(\"Multiplication:\",m)\n",
    "print('addition', a)\n",
    "print('Subtraction',s)\n",
    "print('Division',d)\n"
   ]
  },
  {
   "cell_type": "markdown",
   "metadata": {},
   "source": [
    "Qno 4:  Write a Pandas program to compare the elements of the two Pandas Series."
   ]
  },
  {
   "cell_type": "code",
   "execution_count": 44,
   "metadata": {},
   "outputs": [
    {
     "name": "stdout",
     "output_type": "stream",
     "text": [
      "0    False\n",
      "1    False\n",
      "2    False\n",
      "3    False\n",
      "4    False\n",
      "dtype: bool\n",
      "0    True\n",
      "1    True\n",
      "2    True\n",
      "3    True\n",
      "4    True\n",
      "dtype: bool\n",
      "0    False\n",
      "1    False\n",
      "2    False\n",
      "3    False\n",
      "4    False\n",
      "dtype: bool\n"
     ]
    }
   ],
   "source": [
    "df1=pd.Series([2, 4, 6, 8, 10])\n",
    "df2=pd.Series([1, 3, 5, 7, 9])\n",
    "\n",
    "print(df1==df2)\n",
    "print(df1>df2)\n",
    "print(df1<df2)"
   ]
  },
  {
   "cell_type": "markdown",
   "metadata": {},
   "source": [
    "5. Write a Pandas program to convert a dictionary to a Pandas series"
   ]
  },
  {
   "cell_type": "code",
   "execution_count": 49,
   "metadata": {},
   "outputs": [
    {
     "name": "stdout",
     "output_type": "stream",
     "text": [
      "  Car Model  build Year  Engine Type\n",
      "0  Mercedes        2008         1500\n",
      "1      Audi        2010         1000\n",
      "2    Toyota        2022         2000\n"
     ]
    }
   ],
   "source": [
    "dict={\"Car Model\":['Mercedes','Audi','Toyota' ],\n",
    "      \"build Year\":[2008,2010,2022],\n",
    "      \"Engine Type\":[1500,1000,2000]\n",
    "      }\n",
    "df=pd.DataFrame(dict)\n",
    "print(df)"
   ]
  },
  {
   "cell_type": "markdown",
   "metadata": {},
   "source": [
    "6. Write a Pandas program to convert a NumPy array to a Pandas series"
   ]
  },
  {
   "cell_type": "code",
   "execution_count": 57,
   "metadata": {},
   "outputs": [
    {
     "name": "stdout",
     "output_type": "stream",
     "text": [
      "    0\n",
      "0  10\n",
      "1  20\n",
      "2  30\n",
      "3  40\n",
      "4  50\n"
     ]
    }
   ],
   "source": [
    "import numpy as np\n",
    "array=np.array([10,20, 30, 40, 50])\n",
    "df=pd.DataFrame(array)\n",
    "print(df)"
   ]
  },
  {
   "cell_type": "markdown",
   "metadata": {},
   "source": [
    "7. Write a Pandas program to change the data type of given a column or a Series."
   ]
  },
  {
   "cell_type": "code",
   "execution_count": 64,
   "metadata": {},
   "outputs": [
    {
     "name": "stdout",
     "output_type": "stream",
     "text": [
      "<class 'pandas.core.frame.DataFrame'>\n",
      "RangeIndex: 3 entries, 0 to 2\n",
      "Data columns (total 3 columns):\n",
      " #   Column       Non-Null Count  Dtype  \n",
      "---  ------       --------------  -----  \n",
      " 0   Car Model    3 non-null      object \n",
      " 1   build Year   3 non-null      float64\n",
      " 2   Engine Type  3 non-null      int64  \n",
      "dtypes: float64(1), int64(1), object(1)\n",
      "memory usage: 204.0+ bytes\n"
     ]
    }
   ],
   "source": [
    "dict={\"Car Model\":['Mercedes','Audi','Toyota' ],\n",
    "      \"build Year\":[2008,2010,2022],\n",
    "      \"Engine Type\":[1500,1000,2000]\n",
    "      }\n",
    "df=pd.DataFrame(dict)\n",
    "\n",
    "df['build Year']=df['build Year'].astype(float)\n",
    "df.info()"
   ]
  },
  {
   "cell_type": "markdown",
   "metadata": {},
   "source": [
    "8. Write a Pandas program to convert the first column of a DataFrame as a Series."
   ]
  },
  {
   "cell_type": "code",
   "execution_count": 67,
   "metadata": {},
   "outputs": [
    {
     "name": "stdout",
     "output_type": "stream",
     "text": [
      "['Mercedes', 'Audi', 'Toyota']\n"
     ]
    }
   ],
   "source": [
    "list_1=df['Car Model'].tolist()\n",
    "print(list_1)"
   ]
  },
  {
   "cell_type": "markdown",
   "metadata": {},
   "source": [
    "Write a Pandas program to sort a given Series"
   ]
  },
  {
   "cell_type": "code",
   "execution_count": 77,
   "metadata": {},
   "outputs": [
    {
     "data": {
      "text/plain": [
       "2    2022.0\n",
       "1    2010.0\n",
       "0    2008.0\n",
       "Name: build Year, dtype: float64"
      ]
     },
     "execution_count": 77,
     "metadata": {},
     "output_type": "execute_result"
    }
   ],
   "source": [
    "\n",
    "df['build Year'].sort_values(ascending=False)"
   ]
  },
  {
   "cell_type": "markdown",
   "metadata": {},
   "source": [
    "10. Write a Pandas program to convert Series of lists to one Series"
   ]
  },
  {
   "cell_type": "code",
   "execution_count": 123,
   "metadata": {},
   "outputs": [
    {
     "name": "stdout",
     "output_type": "stream",
     "text": [
      "0       Red\n",
      "1     Green\n",
      "2     White\n",
      "3       Red\n",
      "4     Black\n",
      "5    Yellow\n",
      "dtype: object\n"
     ]
    }
   ],
   "source": [
    "import pandas as pd\n",
    "s = pd.Series([\n",
    "    ['Red', 'Green', 'White'],\n",
    "    ['Red', 'Black'],\n",
    "    ['Yellow']])\n",
    "s=s.apply(pd.Series).stack().reset_index(drop=True)\n",
    "print(s)"
   ]
  },
  {
   "cell_type": "markdown",
   "metadata": {},
   "source": [
    "11. Write a Pandas program to sort a given Series."
   ]
  },
  {
   "cell_type": "code",
   "execution_count": 135,
   "metadata": {},
   "outputs": [
    {
     "name": "stdout",
     "output_type": "stream",
     "text": [
      "0         1\n",
      "1         2\n",
      "2         3\n",
      "3         4\n",
      "4         5\n",
      "5    python\n",
      "6         4\n",
      "7         6\n",
      "dtype: object\n",
      "0         1\n",
      "1         2\n",
      "2         3\n",
      "3         4\n",
      "6         4\n",
      "4         5\n",
      "7         6\n",
      "5    python\n",
      "dtype: object\n"
     ]
    }
   ],
   "source": [
    "s=pd.Series(['1','2','3','4','5','python','4','6'])\n",
    "print(s)\n",
    "ss=s.sort_values(ascending=True)\n",
    "print(ss)"
   ]
  },
  {
   "cell_type": "markdown",
   "metadata": {},
   "source": [
    "12. Write a Pandas program to add some data to an existing Series."
   ]
  },
  {
   "cell_type": "code",
   "execution_count": 95,
   "metadata": {},
   "outputs": [
    {
     "name": "stdout",
     "output_type": "stream",
     "text": [
      "0     100\n",
      "1     200\n",
      "2     300\n",
      "3    4000\n",
      "4      11\n",
      "5      11\n",
      "dtype: int64\n"
     ]
    }
   ],
   "source": [
    "series=pd.Series([100,200,300,4000])\n",
    "list=pd.Series([11,11])\n",
    "series=pd.concat([series,list],axis=0).reset_index(drop=True)\n",
    "print(series)"
   ]
  },
  {
   "cell_type": "code",
   "execution_count": 115,
   "metadata": {},
   "outputs": [
    {
     "data": {
      "text/plain": [
       "4    67\n",
       "5     7\n",
       "dtype: int64"
      ]
     },
     "execution_count": 115,
     "metadata": {},
     "output_type": "execute_result"
    }
   ],
   "source": [
    "df1=pd.Series([1,2,3,4,5])\n",
    "df2=pd.Series([1,3,4,5,67,7])\n",
    "s=df2[~df2.isin(df1)]\n",
    "s"
   ]
  },
  {
   "cell_type": "markdown",
   "metadata": {},
   "source": [
    "13. Write a Pandas program to create a subset of a given series based on value and condition."
   ]
  },
  {
   "cell_type": "code",
   "execution_count": 141,
   "metadata": {},
   "outputs": [
    {
     "name": "stdout",
     "output_type": "stream",
     "text": [
      "0    1\n",
      "1    2\n",
      "2    3\n",
      "3    4\n",
      "4    5\n",
      "dtype: int64\n"
     ]
    }
   ],
   "source": [
    "n=6\n",
    "df=pd.Series([1,2,3,4,5,6,7,8,8,9,10])\n",
    "df2=df[n>df]\n",
    "print(df2)"
   ]
  },
  {
   "cell_type": "markdown",
   "metadata": {},
   "source": [
    "14. Write a Pandas program to change the order of index of a given series"
   ]
  },
  {
   "cell_type": "code",
   "execution_count": 181,
   "metadata": {},
   "outputs": [
    {
     "data": {
      "text/plain": [
       "4    2\n",
       "3    1\n",
       "1    1\n",
       "5    1\n",
       "Name: count, dtype: int64"
      ]
     },
     "execution_count": 181,
     "metadata": {},
     "output_type": "execute_result"
    }
   ],
   "source": [
    "s=pd.Series([1,2,3,4,5,4])\n",
    "s=s.reindex(index=[2,3,0,4,5])\n",
    "a=s.describe()\n",
    "s.value_counts()\n"
   ]
  },
  {
   "cell_type": "markdown",
   "metadata": {},
   "source": []
  },
  {
   "cell_type": "markdown",
   "metadata": {},
   "source": [
    "15. Write a Pandas program to create the mean and standard deviation of the data of a given Series"
   ]
  },
  {
   "cell_type": "code",
   "execution_count": 184,
   "metadata": {},
   "outputs": [
    {
     "name": "stdout",
     "output_type": "stream",
     "text": [
      "mean of series 15.1 and standard deviation is 27.345547121394755\n"
     ]
    }
   ],
   "source": [
    "s=pd.Series([1,2,3,4,5,6,7,7,8,98,9,0,0,0,9,76,5,54,4,4])\n",
    "mean_value=s.mean()\n",
    "std=s.std()\n",
    "print('mean of series {} and standard deviation is {}'.format(mean_value,std))"
   ]
  },
  {
   "cell_type": "markdown",
   "metadata": {},
   "source": [
    "16. Write a Pandas program to get the items of a given series not present in another given series"
   ]
  },
  {
   "cell_type": "code",
   "execution_count": 191,
   "metadata": {},
   "outputs": [
    {
     "name": "stdout",
     "output_type": "stream",
     "text": [
      "Values of df1 that are not present in df2 are [2 3] and the values of df2 that are not present in df1 are [ 7  8  9 64]\n"
     ]
    }
   ],
   "source": [
    "df1=pd.Series([1,2,3,4,5,6])\n",
    "df2=pd.Series([1,4,5,6,7,8,9,64])\n",
    "s1=df2[~df2.isin(df1)]\n",
    "s2=df1[~df1.isin(df2)]\n",
    "print('Values of df1 that are not present in df2 are {} and the values of df2 that are not present in df1 are {}'.format(s2.values,s1.values))"
   ]
  },
  {
   "cell_type": "markdown",
   "metadata": {},
   "source": [
    "17. Write a Pandas program to get the items which are not common of two given series."
   ]
  },
  {
   "cell_type": "code",
   "execution_count": 197,
   "metadata": {},
   "outputs": [
    {
     "name": "stdout",
     "output_type": "stream",
     "text": [
      "Not common values [ 7  8  9 64  2  3]\n"
     ]
    }
   ],
   "source": [
    "df1=pd.Series([1,2,3,4,5,6])\n",
    "df2=pd.Series([1,4,5,6,7,8,9,64])\n",
    "s1=df2[~df2.isin(df1)]\n",
    "s2=df1[~df1.isin(df2)]\n",
    "notcommon=pd.concat([s,s2])\n",
    "print('Not common values',notcommon.values)"
   ]
  },
  {
   "cell_type": "markdown",
   "metadata": {},
   "source": [
    "19. Write a Pandas program to calculate the frequency counts of each unique value of a given series."
   ]
  },
  {
   "cell_type": "code",
   "execution_count": 198,
   "metadata": {},
   "outputs": [
    {
     "data": {
      "text/plain": [
       "4    2\n",
       "1    1\n",
       "2    1\n",
       "3    1\n",
       "5    1\n",
       "Name: count, dtype: int64"
      ]
     },
     "execution_count": 198,
     "metadata": {},
     "output_type": "execute_result"
    }
   ],
   "source": [
    "s=pd.Series([1,2,3,4,5,4])\n",
    "\n",
    "s.value_counts()\n"
   ]
  },
  {
   "cell_type": "markdown",
   "metadata": {},
   "source": [
    "20. Write a Pandas program to display most frequent value in a given series and replace everything else as 'Other' in the series."
   ]
  },
  {
   "cell_type": "code",
   "execution_count": 228,
   "metadata": {},
   "outputs": [
    {
     "data": {
      "text/plain": [
       "others    12\n",
       "1          5\n",
       "2          5\n",
       "3          3\n",
       "Name: count, dtype: int64"
      ]
     },
     "execution_count": 228,
     "metadata": {},
     "output_type": "execute_result"
    }
   ],
   "source": [
    "ss=pd.Series([1,1,1,1,1,12,2,2,2,2,3,33,3,3,34,54,5,5,6,6,74754,467,547,45,2])\n",
    "counts=ss.value_counts()\n",
    "sss=counts.index[counts<3]\n",
    "mask=ss.isin(sss)\n",
    "ss[mask]='others'\n",
    "ss.value_counts()"
   ]
  },
  {
   "cell_type": "code",
   "execution_count": null,
   "metadata": {},
   "outputs": [],
   "source": []
  }
 ],
 "metadata": {
  "kernelspec": {
   "display_name": "Python 3",
   "language": "python",
   "name": "python3"
  },
  "language_info": {
   "codemirror_mode": {
    "name": "ipython",
    "version": 3
   },
   "file_extension": ".py",
   "mimetype": "text/x-python",
   "name": "python",
   "nbconvert_exporter": "python",
   "pygments_lexer": "ipython3",
   "version": "3.11.5"
  }
 },
 "nbformat": 4,
 "nbformat_minor": 2
}
